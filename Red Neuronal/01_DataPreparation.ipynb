{
 "cells": [
  {
   "cell_type": "markdown",
   "id": "b4ceb069",
   "metadata": {},
   "source": [
    "# PREPARACION DE LOS DATOS"
   ]
  },
  {
   "cell_type": "markdown",
   "id": "4a186c6f",
   "metadata": {},
   "source": [
    "## Importacion de librerias necesarias"
   ]
  },
  {
   "cell_type": "code",
   "execution_count": 1,
   "id": "2da07760",
   "metadata": {},
   "outputs": [],
   "source": [
    "# Importar Librerias\n",
    "import os\n",
    "import numpy as np\n",
    "import pandas as pd\n",
    "import cv2\n",
    "import gc\n",
    "from tqdm import tqdm\n",
    "from glob import glob"
   ]
  },
  {
   "cell_type": "markdown",
   "id": "6c2a9de9",
   "metadata": {},
   "source": [
    "## Pasos 1 y 2:\n",
    "\n",
    "- Recolectar todos los datos\n",
    "- Etiquetar"
   ]
  },
  {
   "cell_type": "code",
   "execution_count": 4,
   "id": "7cc20dc7",
   "metadata": {},
   "outputs": [],
   "source": [
    "dirs = os.listdir('data')\n",
    "images_path = []\n",
    "labels = []\n",
    "for folder in dirs:\n",
    "    path = glob('./Data/{}/*.jpg'.format(folder))\n",
    "    label = ['{}'.format(folder)]*len(path)\n",
    "    # Anexar\n",
    "    images_path.extend(path)\n",
    "    labels.extend(label)"
   ]
  },
  {
   "cell_type": "markdown",
   "id": "d142015f",
   "metadata": {},
   "source": [
    "## Pasos 3 y 4: \n",
    "- Deteccion de rostros\n",
    "- Recorte de la imagen"
   ]
  },
  {
   "cell_type": "code",
   "execution_count": 5,
   "id": "0e3dfaa8",
   "metadata": {},
   "outputs": [],
   "source": [
    "img_path = images_path[1]\n",
    "img = cv2.imread(img_path)"
   ]
  },
  {
   "cell_type": "code",
   "execution_count": 6,
   "id": "b4815e8c",
   "metadata": {},
   "outputs": [],
   "source": [
    "cv2.imshow('original', img)\n",
    "cv2.waitKey()\n",
    "cv2.destroyAllWindows()"
   ]
  },
  {
   "cell_type": "code",
   "execution_count": 7,
   "id": "beba6fdb",
   "metadata": {},
   "outputs": [],
   "source": [
    "# deteccion de rostros\n",
    "face_deteccion_model = cv2.dnn.readNetFromCaffe('./Models/deploy.prototxt.txt',\n",
    "                                                './Models/res10_300x300_ssd_iter_140000_fp16.caffemodel')"
   ]
  },
  {
   "cell_type": "code",
   "execution_count": 8,
   "id": "7e625248",
   "metadata": {},
   "outputs": [],
   "source": [
    "def face_detection_dnn(img):\n",
    "    # blob desde imagen (rgb media de substraccion de imagen)\n",
    "    image = img.copy()\n",
    "    h,w = image.shape[:2]\n",
    "    blob = cv2.dnn.blobFromImage(image,1,(300,300),(104,117,123),swapRB=True)\n",
    "    # Obtener las detecciones\n",
    "    face_deteccion_model.setInput(blob)\n",
    "    detections = face_deteccion_model.forward()\n",
    "    for i in range(0, detections.shape[2]):\n",
    "        confidence = detections[0,0,i,2] # Puntuacion de confianza\n",
    "\n",
    "        if confidence > 0.5:\n",
    "            box = detections[0,0,i,3:7]*np.array([w,h,w,h])\n",
    "            box = box.astype(int)\n",
    "            # print(box)\n",
    "            pt1 = (box[0],box[1])\n",
    "            pt2 = (box[2],box[3])\n",
    "            # cv2.rectangle(image,pt1,pt2,(0,255,0),2)\n",
    "            roi = image[box[1]:box[3],box[0]:box[2]]\n",
    "            \n",
    "            return roi\n",
    "        return None"
   ]
  },
  {
   "cell_type": "code",
   "execution_count": 9,
   "id": "6c300bed",
   "metadata": {},
   "outputs": [],
   "source": [
    "img_roi = face_detection_dnn(img)"
   ]
  },
  {
   "cell_type": "code",
   "execution_count": 10,
   "id": "1f82c0ba",
   "metadata": {},
   "outputs": [],
   "source": [
    "cv2.imshow('roi', img_roi)\n",
    "cv2.imshow('original', img)\n",
    "cv2.waitKey()\n",
    "cv2.destroyAllWindows()"
   ]
  },
  {
   "cell_type": "markdown",
   "id": "f43c6516",
   "metadata": {},
   "source": [
    "## Paso 5\n",
    "- Procesamiento de imagenes\n",
    "- Blob desde imagen (Subtraccion media de RGB)\n"
   ]
  },
  {
   "cell_type": "code",
   "execution_count": 11,
   "id": "b8c6df24",
   "metadata": {},
   "outputs": [],
   "source": [
    "def datapreprocess(img):\n",
    "    face = face_detection_dnn(img)\n",
    "    if face is not None:\n",
    "        # computing blob from image\n",
    "        blob = cv2.dnn.blobFromImage(face,1,(100,100),(104,117,123),swapRB=True)\n",
    "        blob_squeeze = np.squeeze(blob).T\n",
    "        blob_rotate = cv2.rotate(blob_squeeze,cv2.ROTATE_90_CLOCKWISE)\n",
    "        blob_flip = cv2.flip(blob_rotate,1)\n",
    "        # Remover valores negativos\n",
    "        img_norm = np.maximum(blob_flip,0)/blob_flip.max()\n",
    "    \n",
    "        return img_norm\n",
    "    else:\n",
    "        return None\n"
   ]
  },
  {
   "cell_type": "markdown",
   "id": "ecdb32e1",
   "metadata": {},
   "source": [
    "## Paso 6:\n",
    "- Aplicar cambios a todas las imagenes y agregarlas en una lista"
   ]
  },
  {
   "cell_type": "code",
   "execution_count": 12,
   "id": "9a77ac48",
   "metadata": {},
   "outputs": [
    {
     "name": "stderr",
     "output_type": "stream",
     "text": [
      "Pre-procesamiento: 8000it [05:56, 22.42it/s]\n"
     ]
    }
   ],
   "source": [
    "# len(images_path)\n",
    "# ATENCION!!! --> La ejecucion de este proceso tardara una media de 1 o 2 horas asi que debo \n",
    "#                 asegurarame de no tener ningun otro programa abierto durante la ejecucion de esta celda.\n",
    "\n",
    "data_img = []\n",
    "label_img =[]\n",
    "i=0\n",
    "for path, label in tqdm(zip(images_path, labels),desc='Pre-procesamiento'):\n",
    "    img = cv2.imread(path) # leer las rutas de las imagenes\n",
    "    process_img = datapreprocess(img)\n",
    "    if process_img is not None:\n",
    "        data_img.append(process_img)\n",
    "        label_img.append(label)\n",
    "        \n",
    "    i += 1\n",
    "    if i%100 == 0:\n",
    "        gc.collect() #Recolectar la 'basura'"
   ]
  },
  {
   "cell_type": "markdown",
   "id": "a19e32b8",
   "metadata": {},
   "source": [
    "## Paso 7:\n",
    "- Guardar las imagenes pre-procesadas en un zip Numpy (.npz)"
   ]
  },
  {
   "cell_type": "code",
   "execution_count": 13,
   "id": "4d9a5c12",
   "metadata": {},
   "outputs": [],
   "source": [
    "# ATENCION!!! --> NO EJECUTAR esta celda y la siguiente a menos que la anterior haya completado su proceso de ejecucion\n",
    "X = np.array(data_img)\n",
    "y = np.array(label_img)"
   ]
  },
  {
   "cell_type": "code",
   "execution_count": 14,
   "id": "6e967986",
   "metadata": {},
   "outputs": [],
   "source": [
    "np.savez('./Data/data_preprocesada_v1.npz',X,y)"
   ]
  },
  {
   "cell_type": "code",
   "execution_count": null,
   "id": "528ed6ab",
   "metadata": {},
   "outputs": [],
   "source": []
  }
 ],
 "metadata": {
  "kernelspec": {
   "display_name": "Python 3 (ipykernel)",
   "language": "python",
   "name": "python3"
  },
  "language_info": {
   "codemirror_mode": {
    "name": "ipython",
    "version": 3
   },
   "file_extension": ".py",
   "mimetype": "text/x-python",
   "name": "python",
   "nbconvert_exporter": "python",
   "pygments_lexer": "ipython3",
   "version": "3.10.6"
  },
  "vscode": {
   "interpreter": {
    "hash": "525cfb76021c0c0ef5084fd1fa7fcb64af32094a2f7e1c63dd09524cd5e174ca"
   }
  }
 },
 "nbformat": 4,
 "nbformat_minor": 5
}
